{
 "cells": [
  {
   "cell_type": "code",
   "execution_count": 2,
   "id": "d16ad897",
   "metadata": {},
   "outputs": [],
   "source": [
    "dataset_url='https://www.kaggle.com/datasets/nikhilmittal/flight-fare-prediction-mh'"
   ]
  },
  {
   "cell_type": "code",
   "execution_count": 3,
   "id": "6d1255cd",
   "metadata": {},
   "outputs": [
    {
     "name": "stdout",
     "output_type": "stream",
     "text": [
      "Please provide your Kaggle credentials to download this dataset. Learn more: http://bit.ly/kaggle-creds\n",
      "Your Kaggle username: ghogaleomkar\n",
      "Your Kaggle Key: ········\n",
      "Downloading flight-fare-prediction-mh.zip to .\\flight-fare-prediction-mh\n"
     ]
    },
    {
     "name": "stderr",
     "output_type": "stream",
     "text": [
      "100%|███████████████████████████████████████████████████████████████████████████████| 626k/626k [00:00<00:00, 1.53MB/s]"
     ]
    },
    {
     "name": "stdout",
     "output_type": "stream",
     "text": [
      "\n"
     ]
    },
    {
     "name": "stderr",
     "output_type": "stream",
     "text": [
      "\n"
     ]
    }
   ],
   "source": [
    "import opendatasets as od\n",
    "od.download(dataset_url)"
   ]
  },
  {
   "cell_type": "code",
   "execution_count": 4,
   "id": "27454707",
   "metadata": {},
   "outputs": [],
   "source": [
    "data_dir ='flight-fare-prediction-mh'"
   ]
  },
  {
   "cell_type": "code",
   "execution_count": 11,
   "id": "362f0faf",
   "metadata": {},
   "outputs": [],
   "source": [
    "import pandas as pd"
   ]
  },
  {
   "cell_type": "code",
   "execution_count": 19,
   "id": "5b70bc17",
   "metadata": {},
   "outputs": [
    {
     "name": "stdout",
     "output_type": "stream",
     "text": [
      "Collecting openpyxl\n",
      "  Downloading openpyxl-3.0.10-py2.py3-none-any.whl (242 kB)\n",
      "     -------------------------------------- 242.1/242.1 KB 1.9 MB/s eta 0:00:00\n",
      "Collecting et-xmlfile\n",
      "  Downloading et_xmlfile-1.1.0-py3-none-any.whl (4.7 kB)\n",
      "Installing collected packages: et-xmlfile, openpyxl\n",
      "Successfully installed et-xmlfile-1.1.0 openpyxl-3.0.10\n"
     ]
    },
    {
     "name": "stderr",
     "output_type": "stream",
     "text": [
      "WARNING: You are using pip version 22.0.3; however, version 22.1.2 is available.\n",
      "You should consider upgrading via the 'C:\\Users\\LENOVO\\AppData\\Local\\Programs\\Python\\Python310\\python.exe -m pip install --upgrade pip' command.\n"
     ]
    }
   ],
   "source": [
    "! pip install openpyxl"
   ]
  },
  {
   "cell_type": "code",
   "execution_count": 5,
   "id": "de149b2c",
   "metadata": {},
   "outputs": [
    {
     "data": {
      "text/plain": [
       "['Data_Train.xlsx', 'Sample_submission.xlsx', 'Test_set.xlsx']"
      ]
     },
     "execution_count": 5,
     "metadata": {},
     "output_type": "execute_result"
    }
   ],
   "source": [
    "import os\n",
    "os.listdir(data_dir)"
   ]
  },
  {
   "cell_type": "code",
   "execution_count": 23,
   "id": "1353f224",
   "metadata": {},
   "outputs": [],
   "source": [
    "df=pd.read_excel(data_dir +'/Data_Train.xlsx')"
   ]
  },
  {
   "cell_type": "code",
   "execution_count": 24,
   "id": "ebe170ba",
   "metadata": {},
   "outputs": [],
   "source": [
    "df[\"j_day\"]=pd.to_datetime(df.Date_of_Journey,format=\"%d/%m/%Y\").dt.day"
   ]
  },
  {
   "cell_type": "code",
   "execution_count": 25,
   "id": "c66a0210",
   "metadata": {},
   "outputs": [],
   "source": [
    "df[\"j_month\"]=pd.to_datetime(df.Date_of_Journey,format=\"%d/%m/%Y\").dt.month"
   ]
  },
  {
   "cell_type": "code",
   "execution_count": 31,
   "id": "c37aee9c",
   "metadata": {},
   "outputs": [],
   "source": [
    "\n",
    "df[\"dep_h\"]=pd.to_datetime(df[\"Dep_Time\"]).dt.hour\n",
    "df[\"dep_m\"]=pd.to_datetime(df[\"Dep_Time\"]).dt.minute\n"
   ]
  },
  {
   "cell_type": "code",
   "execution_count": 33,
   "id": "6da0772b",
   "metadata": {},
   "outputs": [],
   "source": [
    "df.drop([\"Dep_Time\"],axis=1,inplace=True)"
   ]
  },
  {
   "cell_type": "code",
   "execution_count": 34,
   "id": "1bf6fa15",
   "metadata": {},
   "outputs": [],
   "source": [
    "df[\"arr_h\"]=pd.to_datetime(df.Arrival_Time).dt.hour\n",
    "df[\"arr_m\"]=pd.to_datetime(df.Arrival_Time).dt.minute\n",
    "df.drop([\"Arrival_Time\"],axis=1,inplace=True)"
   ]
  },
  {
   "cell_type": "code",
   "execution_count": 43,
   "id": "9632c4db",
   "metadata": {},
   "outputs": [],
   "source": [
    "duration=list(df[\"Duration\"])\n",
    "for i in range(len(duration)):\n",
    "    if len(duration[i].split()) !=2:\n",
    "        if \"h\" in duration[i]:\n",
    "            duration[i]=duration[i].strip()+ \" 0m\"\n",
    "        else:\n",
    "            duration[i]=\"0h \" + duration[i]\n",
    "\n",
    "duration_hours=[]\n",
    "duration_mins=[]\n",
    "for i in range(len(duration)):\n",
    "    duration_hours.append(int(duration[i].split(sep=\"h\")[0]))\n",
    "    duration_mins.append(int(duration[i].split(sep=\"m\")[0].split()[-1]))\n",
    "            "
   ]
  },
  {
   "cell_type": "code",
   "execution_count": 44,
   "id": "e7135d65",
   "metadata": {},
   "outputs": [],
   "source": [
    "df[\"du_h\"]=duration_hours\n",
    "df[\"du_m\"]=duration_mins"
   ]
  },
  {
   "cell_type": "code",
   "execution_count": 46,
   "id": "3d0925fa",
   "metadata": {},
   "outputs": [],
   "source": [
    "df.drop([\"Duration\"],axis=1,inplace=True)"
   ]
  },
  {
   "cell_type": "code",
   "execution_count": 48,
   "id": "d2fd808a",
   "metadata": {},
   "outputs": [],
   "source": [
    "Airline=df[[\"Airline\"]]\n",
    "Airline=pd.get_dummies(Airline,drop_first=True)"
   ]
  },
  {
   "cell_type": "code",
   "execution_count": 49,
   "id": "af7a25aa",
   "metadata": {},
   "outputs": [],
   "source": [
    "Source=df[[\"Source\"]]\n",
    "Source=pd.get_dummies(Source,drop_first=True)"
   ]
  },
  {
   "cell_type": "code",
   "execution_count": 50,
   "id": "542a35e7",
   "metadata": {},
   "outputs": [],
   "source": [
    "Destination=df[[\"Destination\"]]\n",
    "Destination=pd.get_dummies(Destination,drop_first=True)"
   ]
  },
  {
   "cell_type": "code",
   "execution_count": 51,
   "id": "ae719449",
   "metadata": {},
   "outputs": [],
   "source": [
    "df.drop([\"Route\",\"Additional_Info\"],axis=1,inplace=True)"
   ]
  },
  {
   "cell_type": "code",
   "execution_count": 103,
   "id": "44dd9227",
   "metadata": {},
   "outputs": [
    {
     "data": {
      "text/plain": [
       "array([0, 2, 1, 3, 5, 4], dtype=int64)"
      ]
     },
     "execution_count": 103,
     "metadata": {},
     "output_type": "execute_result"
    }
   ],
   "source": [
    "from sklearn.preprocessing import LabelEncoder\n",
    "le_totalsteps=LabelEncoder()\n",
    "df['Total_Stops']=le_totalsteps.fit_transform(df['Total_Stops'])\n",
    "df[\"Total_Stops\"].unique()"
   ]
  },
  {
   "cell_type": "code",
   "execution_count": 104,
   "id": "3e89579b",
   "metadata": {},
   "outputs": [],
   "source": [
    "dfn=pd.concat([df,Airline,Source,Destination],axis=1)\n"
   ]
  },
  {
   "cell_type": "code",
   "execution_count": 96,
   "id": "b66a4115",
   "metadata": {},
   "outputs": [
    {
     "name": "stdout",
     "output_type": "stream",
     "text": [
      "<class 'pandas.core.frame.DataFrame'>\n",
      "RangeIndex: 10683 entries, 0 to 10682\n",
      "Data columns (total 33 columns):\n",
      " #   Column                                     Non-Null Count  Dtype  \n",
      "---  ------                                     --------------  -----  \n",
      " 0   Airline                                    10683 non-null  object \n",
      " 1   Source                                     10683 non-null  object \n",
      " 2   Destination                                10683 non-null  object \n",
      " 3   Total_Stops                                10682 non-null  float64\n",
      " 4   Price                                      10683 non-null  int64  \n",
      " 5   j_day                                      10683 non-null  int64  \n",
      " 6   j_month                                    10683 non-null  int64  \n",
      " 7   dep_h                                      10683 non-null  int64  \n",
      " 8   dep_m                                      10683 non-null  int64  \n",
      " 9   arr_h                                      10683 non-null  int64  \n",
      " 10  arr_m                                      10683 non-null  int64  \n",
      " 11  du_h                                       10683 non-null  int64  \n",
      " 12  du_m                                       10683 non-null  int64  \n",
      " 13  Airline_Air India                          10683 non-null  uint8  \n",
      " 14  Airline_GoAir                              10683 non-null  uint8  \n",
      " 15  Airline_IndiGo                             10683 non-null  uint8  \n",
      " 16  Airline_Jet Airways                        10683 non-null  uint8  \n",
      " 17  Airline_Jet Airways Business               10683 non-null  uint8  \n",
      " 18  Airline_Multiple carriers                  10683 non-null  uint8  \n",
      " 19  Airline_Multiple carriers Premium economy  10683 non-null  uint8  \n",
      " 20  Airline_SpiceJet                           10683 non-null  uint8  \n",
      " 21  Airline_Trujet                             10683 non-null  uint8  \n",
      " 22  Airline_Vistara                            10683 non-null  uint8  \n",
      " 23  Airline_Vistara Premium economy            10683 non-null  uint8  \n",
      " 24  Source_Chennai                             10683 non-null  uint8  \n",
      " 25  Source_Delhi                               10683 non-null  uint8  \n",
      " 26  Source_Kolkata                             10683 non-null  uint8  \n",
      " 27  Source_Mumbai                              10683 non-null  uint8  \n",
      " 28  Destination_Cochin                         10683 non-null  uint8  \n",
      " 29  Destination_Delhi                          10683 non-null  uint8  \n",
      " 30  Destination_Hyderabad                      10683 non-null  uint8  \n",
      " 31  Destination_Kolkata                        10683 non-null  uint8  \n",
      " 32  Destination_New Delhi                      10683 non-null  uint8  \n",
      "dtypes: float64(1), int64(9), object(3), uint8(20)\n",
      "memory usage: 1.3+ MB\n"
     ]
    }
   ],
   "source": [
    "dfn.info()"
   ]
  },
  {
   "cell_type": "code",
   "execution_count": 106,
   "id": "f8a0f7be",
   "metadata": {},
   "outputs": [],
   "source": [
    "X=dfn.drop(columns=[\"Airline\",\"Source\",\"Destination\",\"Price\"],axis=1)\n",
    "y=dfn.Price"
   ]
  },
  {
   "cell_type": "code",
   "execution_count": 89,
   "id": "54d42b48",
   "metadata": {},
   "outputs": [
    {
     "name": "stdout",
     "output_type": "stream",
     "text": [
      "<class 'pandas.core.frame.DataFrame'>\n",
      "RangeIndex: 10683 entries, 0 to 10682\n",
      "Data columns (total 28 columns):\n",
      " #   Column                                     Non-Null Count  Dtype\n",
      "---  ------                                     --------------  -----\n",
      " 0   j_day                                      10683 non-null  int64\n",
      " 1   j_month                                    10683 non-null  int64\n",
      " 2   dep_h                                      10683 non-null  int64\n",
      " 3   dep_m                                      10683 non-null  int64\n",
      " 4   arr_h                                      10683 non-null  int64\n",
      " 5   arr_m                                      10683 non-null  int64\n",
      " 6   du_h                                       10683 non-null  int64\n",
      " 7   du_m                                       10683 non-null  int64\n",
      " 8   Airline_Air India                          10683 non-null  uint8\n",
      " 9   Airline_GoAir                              10683 non-null  uint8\n",
      " 10  Airline_IndiGo                             10683 non-null  uint8\n",
      " 11  Airline_Jet Airways                        10683 non-null  uint8\n",
      " 12  Airline_Jet Airways Business               10683 non-null  uint8\n",
      " 13  Airline_Multiple carriers                  10683 non-null  uint8\n",
      " 14  Airline_Multiple carriers Premium economy  10683 non-null  uint8\n",
      " 15  Airline_SpiceJet                           10683 non-null  uint8\n",
      " 16  Airline_Trujet                             10683 non-null  uint8\n",
      " 17  Airline_Vistara                            10683 non-null  uint8\n",
      " 18  Airline_Vistara Premium economy            10683 non-null  uint8\n",
      " 19  Source_Chennai                             10683 non-null  uint8\n",
      " 20  Source_Delhi                               10683 non-null  uint8\n",
      " 21  Source_Kolkata                             10683 non-null  uint8\n",
      " 22  Source_Mumbai                              10683 non-null  uint8\n",
      " 23  Destination_Cochin                         10683 non-null  uint8\n",
      " 24  Destination_Delhi                          10683 non-null  uint8\n",
      " 25  Destination_Hyderabad                      10683 non-null  uint8\n",
      " 26  Destination_Kolkata                        10683 non-null  uint8\n",
      " 27  Destination_New Delhi                      10683 non-null  uint8\n",
      "dtypes: int64(8), uint8(20)\n",
      "memory usage: 876.5 KB\n"
     ]
    }
   ],
   "source": [
    "X.info()"
   ]
  },
  {
   "cell_type": "code",
   "execution_count": null,
   "id": "4bfee32f",
   "metadata": {},
   "outputs": [],
   "source": []
  },
  {
   "cell_type": "code",
   "execution_count": 107,
   "id": "b7509d72",
   "metadata": {},
   "outputs": [],
   "source": [
    "from sklearn.model_selection import train_test_split\n",
    "X_train, X_test, y_train, y_test = train_test_split( X, y, random_state=0)\n"
   ]
  },
  {
   "cell_type": "code",
   "execution_count": 108,
   "id": "d5b22f48",
   "metadata": {},
   "outputs": [
    {
     "data": {
      "text/plain": [
       "<AxesSubplot:>"
      ]
     },
     "execution_count": 108,
     "metadata": {},
     "output_type": "execute_result"
    },
    {
     "data": {
      "image/png": "[encoded data removed]",
      "text/plain": [
       "<Figure size 720x720 with 2 Axes>"
      ]
     },
     "metadata": {},
     "output_type": "display_data"
    }
   ],
   "source": [
    "import seaborn as sns\n",
    "import matplotlib as plt\n",
    "sns.set(rc={\"figure.figsize\":(10, 10)})\n",
    "sns.heatmap(df.corr(),annot=True,cmap=\"RdYlGn\")\n"
   ]
  },
  {
   "cell_type": "code",
   "execution_count": 109,
   "id": "5817e82c",
   "metadata": {},
   "outputs": [],
   "source": [
    "from sklearn.ensemble import ExtraTreesRegressor\n",
    "model=ExtraTreesRegressor()"
   ]
  },
  {
   "cell_type": "code",
   "execution_count": 110,
   "id": "93ed6503",
   "metadata": {},
   "outputs": [
    {
     "data": {
      "text/plain": [
       "ExtraTreesRegressor()"
      ]
     },
     "execution_count": 110,
     "metadata": {},
     "output_type": "execute_result"
    }
   ],
   "source": [
    "model.fit(X_train, y_train)"
   ]
  },
  {
   "cell_type": "code",
   "execution_count": 111,
   "id": "c025057b",
   "metadata": {},
   "outputs": [],
   "source": [
    "yp=model.predict(X_test)"
   ]
  },
  {
   "cell_type": "code",
   "execution_count": 114,
   "id": "dbb7b645",
   "metadata": {},
   "outputs": [
    {
     "data": {
      "text/plain": [
       "2143.6136907016644"
      ]
     },
     "execution_count": 114,
     "metadata": {},
     "output_type": "execute_result"
    }
   ],
   "source": [
    "import numpy as np\n",
    "from sklearn.metrics import mean_squared_error\n",
    "error=np.sqrt(mean_squared_error(y_test,yp))\n",
    "error\n"
   ]
  }
 ],
 "metadata": {
  "kernelspec": {
   "display_name": "Python 3 (ipykernel)",
   "language": "python",
   "name": "python3"
  },
  "language_info": {
   "codemirror_mode": {
    "name": "ipython",
    "version": 3
   },
   "file_extension": ".py",
   "mimetype": "text/x-python",
   "name": "python",
   "nbconvert_exporter": "python",
   "pygments_lexer": "ipython3",
   "version": "3.10.2"
  }
 },
 "nbformat": 4,
 "nbformat_minor": 5
}
